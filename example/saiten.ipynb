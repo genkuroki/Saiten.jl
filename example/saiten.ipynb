{
 "cells": [
  {
   "cell_type": "code",
   "execution_count": 1,
   "id": "02113df2-ad9b-409f-b474-0d6c4489718a",
   "metadata": {},
   "outputs": [],
   "source": [
    "using Saiten\n",
    "using PrettyPrinting\n",
    "using Printf"
   ]
  },
  {
   "cell_type": "code",
   "execution_count": 2,
   "id": "564cf464-0bf6-4e6f-89b5-1b57dcc9c042",
   "metadata": {},
   "outputs": [
    {
     "name": "stdout",
     "output_type": "stream",
     "text": [
      "Dict(\"1\" => Dict(\"b\" => [2, 10], \"a\" => [1, 10]),\n",
      "     \"2\" => Dict(\"c\" => [[3, 4], 10]))"
     ]
    }
   ],
   "source": [
    "sol_str = \"\"\"\n",
    "[1]\n",
    "a = [1, 10]\n",
    "b = [2, 10]\n",
    "\n",
    "[2]\n",
    "c = [[3, 4], 10]\n",
    "\"\"\"\n",
    "sol = TOML.parse(sol_str)\n",
    "pprint(sol)"
   ]
  },
  {
   "cell_type": "code",
   "execution_count": 3,
   "id": "928e38cd-3e2f-4c12-93bc-19d9782f9874",
   "metadata": {},
   "outputs": [
    {
     "data": {
      "text/plain": [
       "4-element Vector{String}:\n",
       " \"[0]\\nname = \\\"愛上夫\\\"\\nid = \\\"A0BC00001\\\"\\n\\n[1]\\na = 1\\nb = 2\\n\\n[2]\\nc = [3, 4]\\n\"\n",
       " \"[0]\\nname = \\\"加木久家子\\\"\\nid = \\\"A0BC00002\\\"\\n\\n[1]\\na = 1\\nb = 2.5\\n\\n[2]\\nc = [3, 4]\\n\"\n",
       " \"\"\n",
       " \"[0]\\nname = \\\"佐子巣瀬祖\\\"\\nid = \\\"A0BC00003\\\"\\n\\n[1]\\nb = 2\\n\\n[2]\\n\""
      ]
     },
     "execution_count": 3,
     "metadata": {},
     "output_type": "execute_result"
    }
   ],
   "source": [
    "ans1_str = \"\"\"\n",
    "[0]\n",
    "name = \"愛上夫\"\n",
    "id = \"A0BC00001\"\n",
    "\n",
    "[1]\n",
    "a = 1\n",
    "b = 2\n",
    "\n",
    "[2]\n",
    "c = [3, 4]\n",
    "\"\"\"\n",
    "\n",
    "ans2_str = \"\"\"\n",
    "[0]\n",
    "name = \"加木久家子\"\n",
    "id = \"A0BC00002\"\n",
    "\n",
    "[1]\n",
    "a = 1\n",
    "b = 2.5\n",
    "\n",
    "[2]\n",
    "c = [3, 4]\n",
    "\"\"\"\n",
    "\n",
    "ans3_str = \"\"\n",
    "\n",
    "ans4_str = \"\"\"\n",
    "[0]\n",
    "name = \"佐子巣瀬祖\"\n",
    "id = \"A0BC00003\"\n",
    "\n",
    "[1]\n",
    "b = 2\n",
    "\n",
    "[2]\n",
    "\"\"\"\n",
    "\n",
    "ans_strs = [\n",
    "    ans1_str\n",
    "    ans2_str\n",
    "    ans3_str\n",
    "    ans4_str\n",
    "]"
   ]
  },
  {
   "cell_type": "code",
   "execution_count": 4,
   "id": "61f2ae5b-bb33-43a5-bd3c-8e602839ca63",
   "metadata": {},
   "outputs": [
    {
     "data": {
      "text/plain": [
       "4-element Vector{String}:\n",
       " \"サブディレクトリ1\"\n",
       " \"サブディレクトリ2\"\n",
       " \"サブディレクトリ3\"\n",
       " \"サブディレクトリ4\""
      ]
     },
     "execution_count": 4,
     "metadata": {},
     "output_type": "execute_result"
    }
   ],
   "source": [
    "grep(r) = A -> filter(s -> occursin(r, s), A)\n",
    "subdirs = readdir(\".\") |> grep(r\"^サブ\")"
   ]
  },
  {
   "cell_type": "code",
   "execution_count": 5,
   "id": "94c75169-5656-4bed-a20f-73890db360c6",
   "metadata": {},
   "outputs": [
    {
     "name": "stdout",
     "output_type": "stream",
     "text": [
      "サブディレクトリ1\\kaito0001.toml\n",
      "サブディレクトリ2\\kaito0002.toml\n",
      "サブディレクトリ4\\kaito0004.toml\n"
     ]
    }
   ],
   "source": [
    "for (k, d) in enumerate(subdirs)\n",
    "    num = @sprintf \"%04d\" k\n",
    "    fn = joinpath(d, \"kaito$num.toml\")\n",
    "    ans_str = ans_strs[k]\n",
    "    if !isempty(ans_str)\n",
    "        write(fn, ans_str)\n",
    "        println(fn)\n",
    "    end\n",
    "end"
   ]
  },
  {
   "cell_type": "code",
   "execution_count": 6,
   "id": "03a89017-67f9-4d69-b819-b35016099d03",
   "metadata": {},
   "outputs": [
    {
     "name": "stdout",
     "output_type": "stream",
     "text": [
      "fn_ans = \"サブディレクトリ1\\\\kaito0001.toml\"\n",
      "tn_kekka = \"kekka_愛上夫_A0BC00001_0001.toml\"\n",
      "[0]\n",
      "id = \"A0BC00001\"\n",
      "name = \"愛上夫\"\n",
      "\n",
      "[1]\n",
      "a = [1, 10]\n",
      "b = [2, 10]\n",
      "\n",
      "[2]\n",
      "c = [[3, 4], 10]\n",
      "\n",
      "fn_kekka = \"サブディレクトリ1\\\\kekka_愛上夫_A0BC00001_0001.toml\"\n",
      "Dict(\"1\" => Dict(\"b\" => 2, \"a\" => 1),\n",
      "     \"0\" => Dict(\"name\" => \"愛上夫\", \"id\" => \"A0BC00001\"),\n",
      "     \"2\" => Dict(\"c\" => [3, 4]))\n",
      "Dict(\"1\" => Dict(\"b\" => [2, 10], \"a\" => [1, 10]),\n",
      "     \"0\" => Dict(\"name\" => \"愛上夫\", \"id\" => \"A0BC00001\"),\n",
      "     \"2\" => Dict(\"c\" => [[3, 4], 10]))\n",
      "gokeiten = 30\n",
      "------------------------------------------------------------------------------\n",
      "fn_ans = \"サブディレクトリ2\\\\kaito0002.toml\"\n",
      "tn_kekka = \"kekka_加木久家子_A0BC00002_0002.toml\"\n",
      "[0]\n",
      "id = \"A0BC00002\"\n",
      "name = \"加木久家子\"\n",
      "\n",
      "[1]\n",
      "a = [1, 10]\n",
      "b = [2.5, 0]\n",
      "\n",
      "[2]\n",
      "c = [[3, 4], 10]\n",
      "\n",
      "fn_kekka = \"サブディレクトリ2\\\\kekka_加木久家子_A0BC00002_0002.toml\"\n",
      "Dict(\"1\" => Dict(\"b\" => 2.5, \"a\" => 1),\n",
      "     \"0\" => Dict(\"name\" => \"加木久家子\", \"id\" => \"A0BC00002\"),\n",
      "     \"2\" => Dict(\"c\" => [3, 4]))\n",
      "Dict(\"1\" => Dict(\"b\" => [2.5, 0], \"a\" => [1, 10]),\n",
      "     \"0\" => Dict(\"name\" => \"加木久家子\", \"id\" => \"A0BC00002\"),\n",
      "     \"2\" => Dict(\"c\" => [[3, 4], 10]))\n",
      "gokeiten = 20\n",
      "------------------------------------------------------------------------------\n",
      "tn_kekka = \"kekka___0003.toml\"\n",
      "[1]\n",
      "a = [\"\", 0]\n",
      "b = [\"\", 0]\n",
      "\n",
      "[2]\n",
      "c = [\"\", 0]\n",
      "\n",
      "fn_kekka = \"サブディレクトリ3\\\\kekka___0003.toml\"\n",
      "Dict()\n",
      "Dict(\"1\" => Dict(\"b\" => [\"\", 0], \"a\" => [\"\", 0]), \"2\" => Dict(\"c\" => [\"\", 0]))\n",
      "gokeiten = 0\n",
      "------------------------------------------------------------------------------\n",
      "fn_ans = \"サブディレクトリ4\\\\kaito0004.toml\"\n",
      "tn_kekka = \"kekka_佐子巣瀬祖_A0BC00003_0004.toml\"\n",
      "[0]\n",
      "id = \"A0BC00003\"\n",
      "name = \"佐子巣瀬祖\"\n",
      "\n",
      "[1]\n",
      "a = [\"\", 0]\n",
      "b = [2, 10]\n",
      "\n",
      "[2]\n",
      "c = [\"\", 0]\n",
      "\n",
      "fn_kekka = \"サブディレクトリ4\\\\kekka_佐子巣瀬祖_A0BC00003_0004.toml\"\n",
      "Dict(\"1\" => Dict(\"b\" => 2),\n",
      "     \"0\" => Dict(\"name\" => \"佐子巣瀬祖\", \"id\" => \"A0BC00003\"),\n",
      "     \"2\" => Dict())\n",
      "Dict(\"1\" => Dict(\"b\" => [2, 10], \"a\" => [\"\", 0]),\n",
      "     \"0\" => Dict(\"name\" => \"佐子巣瀬祖\", \"id\" => \"A0BC00003\"),\n",
      "     \"2\" => Dict(\"c\" => [\"\", 0]))\n",
      "gokeiten = 10\n",
      "------------------------------------------------------------------------------\n"
     ]
    }
   ],
   "source": [
    "zentensu = []\n",
    "for (k ,d) in enumerate(subdirs)\n",
    "    tn_ans_vec = readdir(d) |> grep(r\"^kaito.*\\.toml\")\n",
    "    if isempty(tn_ans_vec)\n",
    "        num = @sprintf \"%04d\" k\n",
    "        fn_ans = joinpath(d, \"kaito$num.toml\")\n",
    "        ans = Dict()\n",
    "    else\n",
    "        tn_ans = first(tn_ans_vec)\n",
    "        fn_ans = joinpath(d, tn_ans)\n",
    "        ans = TOML.parsefile(fn_ans)\n",
    "        @show fn_ans \n",
    "    end\n",
    "    \n",
    "    kekka, gokeiten = saiten(ans, sol)\n",
    "    header = get(kekka, \"0\", Dict())\n",
    "    name = get(header, \"name\", \"\")\n",
    "    id = get(header, \"id\", \"\")\n",
    "    tn_kekka = \"kekka_\" * name * \"_\" * id * \"_\" * replace(fn_ans, r\"^.*kaito\"=>\"\")\n",
    "    @show tn_kekka\n",
    "    fn_kekka = joinpath(d, tn_kekka)\n",
    "    kekka_str = sprint(kekka) do io, x; TOML.print(io, x; sorted=true) end\n",
    "    println(kekka_str)\n",
    "    write(fn_kekka, kekka_str)\n",
    "    @show fn_kekka\n",
    "    push!(zentensu, replace(tn_kekka, r\".toml$\"=>\"\") => gokeiten)\n",
    "    \n",
    "    pprintln(ans)\n",
    "    pprintln(kekka)\n",
    "    @show gokeiten\n",
    "    println(\"-\"^78)\n",
    "end"
   ]
  },
  {
   "cell_type": "code",
   "execution_count": 7,
   "id": "e543df83-714a-4c30-8fb7-0f01635fcfcf",
   "metadata": {},
   "outputs": [
    {
     "data": {
      "text/plain": [
       "148"
      ]
     },
     "execution_count": 7,
     "metadata": {},
     "output_type": "execute_result"
    }
   ],
   "source": [
    "write(\"zentensu.txt\", join(string.(zentensu), \"\\n\"))"
   ]
  },
  {
   "cell_type": "code",
   "execution_count": 8,
   "id": "524c199c-9412-490f-9dcc-bad0f96cb04c",
   "metadata": {},
   "outputs": [
    {
     "name": "stdout",
     "output_type": "stream",
     "text": [
      "\"kekka_愛上夫_A0BC00001_0001\" => 30\n",
      "\"kekka_加木久家子_A0BC00002_0002\" => 20\n",
      "\"kekka___0003\" => 0\n",
      "\"kekka_佐子巣瀬祖_A0BC00003_0004\" => 10"
     ]
    }
   ],
   "source": [
    "print(read(\"zentensu.txt\", String))"
   ]
  },
  {
   "cell_type": "code",
   "execution_count": null,
   "id": "e6bc77d4-2a26-4fa4-af6a-581fb85e6f69",
   "metadata": {},
   "outputs": [],
   "source": []
  }
 ],
 "metadata": {
  "jupytext": {
   "encoding": "# -*- coding: utf-8 -*-",
   "formats": "ipynb,jl:hydrogen"
  },
  "kernelspec": {
   "display_name": "Julia 1.7.3",
   "language": "julia",
   "name": "julia-1.7"
  },
  "language_info": {
   "file_extension": ".jl",
   "mimetype": "application/julia",
   "name": "julia",
   "version": "1.7.3"
  }
 },
 "nbformat": 4,
 "nbformat_minor": 5
}
