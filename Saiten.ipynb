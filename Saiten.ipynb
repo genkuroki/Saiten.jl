{
 "cells": [
  {
   "cell_type": "code",
   "execution_count": 1,
   "id": "b7e89cf1-7b66-48c4-bb5b-f69f90ab054c",
   "metadata": {},
   "outputs": [],
   "source": [
    "using Revise\n",
    "using Saiten\n",
    "using PrettyPrinting"
   ]
  },
  {
   "cell_type": "code",
   "execution_count": 2,
   "id": "7f052512-82cb-454d-8ed9-a7bb2387ecf7",
   "metadata": {},
   "outputs": [
    {
     "name": "stdout",
     "output_type": "stream",
     "text": [
      "[1]\n",
      "x = [123.4, 10]\n",
      "y = [\"yes\", 10]\n",
      "z = [[34.5, 199.5], 20]\n",
      "w = [999, 10]\n",
      "\n",
      "[2]\n",
      "a = [678, 10]\n",
      "b = [1003, 10]\n",
      "\n",
      "[3]\n",
      "c = [[123.4, 234.5], 20]\n",
      "d = [\"No\", 10]\n",
      "\n",
      "Dict(\"1\" => Dict(\"w\" => [999, 10],\n",
      "                 \"x\" => [123.4, 10],\n",
      "                 \"z\" => [[34.5, 199.5], 20],\n",
      "                 \"y\" => [\"yes\", 10]),\n",
      "     \"2\" => Dict(\"b\" => [1003, 10], \"a\" => [678, 10]),\n",
      "     \"3\" => Dict(\"c\" => [[123.4, 234.5], 20], \"d\" => [\"No\", 10]))"
     ]
    }
   ],
   "source": [
    "sol_str = \"\"\"\n",
    "[1]\n",
    "x = [123.4, 10]\n",
    "y = [\"yes\", 10]\n",
    "z = [[34.5, 199.5], 20]\n",
    "w = [999, 10]\n",
    "\n",
    "[2]\n",
    "a = [678, 10]\n",
    "b = [1003, 10]\n",
    "\n",
    "[3]\n",
    "c = [[123.4, 234.5], 20]\n",
    "d = [\"No\", 10]\n",
    "\"\"\"\n",
    "println(sol_str)\n",
    "\n",
    "sol = TOML.parse(sol_str)\n",
    "pprint(sol)"
   ]
  },
  {
   "cell_type": "code",
   "execution_count": 3,
   "id": "c25d4a71-0de6-4777-94e2-20f40643cdfc",
   "metadata": {},
   "outputs": [
    {
     "name": "stdout",
     "output_type": "stream",
     "text": [
      "[1]\n",
      "w = [999, 10]\n",
      "x = [123.4, 10]\n",
      "z = [[34.5, 199.5], 20]\n",
      "y = [\"yes\", 10]\n",
      "\n",
      "[2]\n",
      "b = [1003, 10]\n",
      "a = [678, 10]\n",
      "\n",
      "[3]\n",
      "c = [[123.4, 234.5], 20]\n",
      "d = [\"No\", 10]\n"
     ]
    }
   ],
   "source": [
    "TOML.print(sol)"
   ]
  },
  {
   "cell_type": "code",
   "execution_count": 4,
   "id": "79abd2fc-bb62-4878-adb1-85110547230d",
   "metadata": {},
   "outputs": [
    {
     "name": "stdout",
     "output_type": "stream",
     "text": [
      "[1]\n",
      "w = 999\n",
      "x = 123.4\n",
      "z = [34.5, 199.5]\n",
      "y = \"yes\"\n",
      "\n",
      "[2]\n",
      "b = 1003\n",
      "a = 678\n",
      "\n",
      "[3]\n",
      "c = [123.4, 234.5]\n",
      "d = \"No\"\n"
     ]
    }
   ],
   "source": [
    "make_mohankaito(sol) |> TOML.print"
   ]
  },
  {
   "cell_type": "code",
   "execution_count": 5,
   "id": "4b9ef6bf-d105-4524-a6e4-d601ab945d89",
   "metadata": {},
   "outputs": [
    {
     "name": "stdout",
     "output_type": "stream",
     "text": [
      "[1]\n",
      "w = 4649373\n",
      "x = 46.49373\n",
      "z = [46.49373, 46.49373]\n",
      "y = \"yes or no\"\n",
      "\n",
      "[2]\n",
      "b = 4649373\n",
      "a = 4649373\n",
      "\n",
      "[3]\n",
      "c = [46.49373, 46.49373]\n",
      "d = \"yes or no\"\n"
     ]
    }
   ],
   "source": [
    "make_kaitoyoshi(sol) |> TOML.print"
   ]
  },
  {
   "cell_type": "code",
   "execution_count": 6,
   "id": "2ab456a3-b9e9-4472-9759-80c223389dc1",
   "metadata": {},
   "outputs": [
    {
     "data": {
      "text/plain": [
       "print_ans_sol (generic function with 1 method)"
      ]
     },
     "execution_count": 6,
     "metadata": {},
     "output_type": "execute_result"
    }
   ],
   "source": [
    "function print_ans_sol(ans_str, sol)\n",
    "    ans = TOML.parse(ans_str)\n",
    "    kekka, gokeiten = saiten(ans, sol)\n",
    "    \n",
    "    println(ans_str)\n",
    "    println(\"-\"^78)\n",
    "    TOML.print(kekka; sorted=true)\n",
    "    println(\"-\"^78)\n",
    "    println(\"gokeiten = \", gokeiten)\n",
    "end"
   ]
  },
  {
   "cell_type": "code",
   "execution_count": 7,
   "id": "1d1c933d-33ee-48e1-81bd-96f8c7d6f1ad",
   "metadata": {},
   "outputs": [
    {
     "name": "stdout",
     "output_type": "stream",
     "text": [
      "[0]\n",
      "name = \"山田太郎\"\n",
      "id = \"A9BC99999\"\n",
      "\n",
      "[1]\n",
      "w = 999\n",
      "x = 123.4\n",
      "z = [34.5, 199.5]\n",
      "y = \"yes\"\n",
      "\n",
      "[2]\n",
      "b = 1003\n",
      "a = 678\n",
      "\n",
      "[3]\n",
      "c = [123.4, 234.5]\n",
      "d = \"No\"\n",
      "\n",
      "------------------------------------------------------------------------------\n",
      "[0]\n",
      "id = \"A9BC99999\"\n",
      "name = \"山田太郎\"\n",
      "\n",
      "[1]\n",
      "w = [999, 10]\n",
      "x = [123.4, 10]\n",
      "y = [\"yes\", 10]\n",
      "z = [[34.5, 199.5], 20]\n",
      "\n",
      "[2]\n",
      "a = [678, 10]\n",
      "b = [1003, 10]\n",
      "\n",
      "[3]\n",
      "c = [[123.4, 234.5], 20]\n",
      "d = [\"No\", 10]\n",
      "------------------------------------------------------------------------------\n",
      "gokeiten = 100\n"
     ]
    }
   ],
   "source": [
    "ans1_str = \"\"\"\n",
    "[0]\n",
    "name = \"山田太郎\"\n",
    "id = \"A9BC99999\"\n",
    "\n",
    "[1]\n",
    "w = 999\n",
    "x = 123.4\n",
    "z = [34.5, 199.5]\n",
    "y = \"yes\"\n",
    "\n",
    "[2]\n",
    "b = 1003\n",
    "a = 678\n",
    "\n",
    "[3]\n",
    "c = [123.4, 234.5]\n",
    "d = \"No\"\n",
    "\"\"\"\n",
    "print_ans_sol(ans1_str, sol)"
   ]
  },
  {
   "cell_type": "code",
   "execution_count": 8,
   "id": "589b6b3a-051d-40e8-b25f-aecaccf9b2cd",
   "metadata": {},
   "outputs": [
    {
     "name": "stdout",
     "output_type": "stream",
     "text": [
      "[0]\n",
      "name = \"山田太郎\"\n",
      "id = \"A9BC99999\"\n",
      "\n",
      "[1]\n",
      "w = 990\n",
      "x = 125.4\n",
      "z = [34.5, 199.5]\n",
      "y = \"Yes\"\n",
      "\n",
      "[2]\n",
      "b = 1003\n",
      "a = 678\n",
      "\n",
      "[3]\n",
      "c = [123.4, 234.5]\n",
      "d = \"no\"\n",
      "\n",
      "------------------------------------------------------------------------------\n",
      "[0]\n",
      "id = \"A9BC99999\"\n",
      "name = \"山田太郎\"\n",
      "\n",
      "[1]\n",
      "w = [990, 0]\n",
      "x = [125.4, 0]\n",
      "y = [\"Yes\", 10]\n",
      "z = [[34.5, 199.5], 20]\n",
      "\n",
      "[2]\n",
      "a = [678, 10]\n",
      "b = [1003, 10]\n",
      "\n",
      "[3]\n",
      "c = [[123.4, 234.5], 20]\n",
      "d = [\"no\", 10]\n",
      "------------------------------------------------------------------------------\n",
      "gokeiten = 80\n"
     ]
    }
   ],
   "source": [
    "ans2_str = \"\"\"\n",
    "[0]\n",
    "name = \"山田太郎\"\n",
    "id = \"A9BC99999\"\n",
    "\n",
    "[1]\n",
    "w = 990\n",
    "x = 125.4\n",
    "z = [34.5, 199.5]\n",
    "y = \"Yes\"\n",
    "\n",
    "[2]\n",
    "b = 1003\n",
    "a = 678\n",
    "\n",
    "[3]\n",
    "c = [123.4, 234.5]\n",
    "d = \"no\"\n",
    "\"\"\"\n",
    "print_ans_sol(ans2_str, sol)"
   ]
  },
  {
   "cell_type": "code",
   "execution_count": null,
   "id": "67ed9719-75fe-4be5-b066-6d7c1e5522f0",
   "metadata": {},
   "outputs": [],
   "source": []
  }
 ],
 "metadata": {
  "kernelspec": {
   "display_name": "Julia 1.7.3",
   "language": "julia",
   "name": "julia-1.7"
  },
  "language_info": {
   "file_extension": ".jl",
   "mimetype": "application/julia",
   "name": "julia",
   "version": "1.7.3"
  }
 },
 "nbformat": 4,
 "nbformat_minor": 5
}
